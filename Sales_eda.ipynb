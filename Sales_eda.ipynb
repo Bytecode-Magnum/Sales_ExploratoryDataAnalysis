{
 "cells": [
  {
   "cell_type": "markdown",
   "id": "727eb6d1",
   "metadata": {},
   "source": [
    "### Expolatory Data Analysis on Sales DataSet "
   ]
  },
  {
   "cell_type": "markdown",
   "id": "0a5e0fe3",
   "metadata": {},
   "source": [
    "#### importing the necessary libraries"
   ]
  },
  {
   "cell_type": "code",
   "execution_count": 112,
   "id": "58bb9260",
   "metadata": {},
   "outputs": [],
   "source": [
    "import seaborn as sns\n",
    "import pandas as pd\n",
    "import plotly.express as px\n",
    "import calendar\n",
    "df=pd.read_csv('./data/sales_data.csv')"
   ]
  },
  {
   "cell_type": "code",
   "execution_count": 113,
   "id": "e41ff928",
   "metadata": {},
   "outputs": [
    {
     "data": {
      "text/html": [
       "<div>\n",
       "<style scoped>\n",
       "    .dataframe tbody tr th:only-of-type {\n",
       "        vertical-align: middle;\n",
       "    }\n",
       "\n",
       "    .dataframe tbody tr th {\n",
       "        vertical-align: top;\n",
       "    }\n",
       "\n",
       "    .dataframe thead th {\n",
       "        text-align: right;\n",
       "    }\n",
       "</style>\n",
       "<table border=\"1\" class=\"dataframe\">\n",
       "  <thead>\n",
       "    <tr style=\"text-align: right;\">\n",
       "      <th></th>\n",
       "      <th>Order ID</th>\n",
       "      <th>Product</th>\n",
       "      <th>Quantity Ordered</th>\n",
       "      <th>Price Each</th>\n",
       "      <th>Order Date</th>\n",
       "      <th>Purchase Address</th>\n",
       "    </tr>\n",
       "  </thead>\n",
       "  <tbody>\n",
       "    <tr>\n",
       "      <th>0</th>\n",
       "      <td>176558</td>\n",
       "      <td>USB-C Charging Cable</td>\n",
       "      <td>2</td>\n",
       "      <td>11.95</td>\n",
       "      <td>04/19/19 08:46</td>\n",
       "      <td>917 1st St, Dallas, TX 75001</td>\n",
       "    </tr>\n",
       "    <tr>\n",
       "      <th>1</th>\n",
       "      <td>NaN</td>\n",
       "      <td>NaN</td>\n",
       "      <td>NaN</td>\n",
       "      <td>NaN</td>\n",
       "      <td>NaN</td>\n",
       "      <td>NaN</td>\n",
       "    </tr>\n",
       "    <tr>\n",
       "      <th>2</th>\n",
       "      <td>176559</td>\n",
       "      <td>Bose SoundSport Headphones</td>\n",
       "      <td>1</td>\n",
       "      <td>99.99</td>\n",
       "      <td>04/07/19 22:30</td>\n",
       "      <td>682 Chestnut St, Boston, MA 02215</td>\n",
       "    </tr>\n",
       "    <tr>\n",
       "      <th>3</th>\n",
       "      <td>176560</td>\n",
       "      <td>Google Phone</td>\n",
       "      <td>1</td>\n",
       "      <td>600</td>\n",
       "      <td>04/12/19 14:38</td>\n",
       "      <td>669 Spruce St, Los Angeles, CA 90001</td>\n",
       "    </tr>\n",
       "    <tr>\n",
       "      <th>4</th>\n",
       "      <td>176560</td>\n",
       "      <td>Wired Headphones</td>\n",
       "      <td>1</td>\n",
       "      <td>11.99</td>\n",
       "      <td>04/12/19 14:38</td>\n",
       "      <td>669 Spruce St, Los Angeles, CA 90001</td>\n",
       "    </tr>\n",
       "  </tbody>\n",
       "</table>\n",
       "</div>"
      ],
      "text/plain": [
       "  Order ID                     Product Quantity Ordered Price Each  \\\n",
       "0   176558        USB-C Charging Cable                2      11.95   \n",
       "1      NaN                         NaN              NaN        NaN   \n",
       "2   176559  Bose SoundSport Headphones                1      99.99   \n",
       "3   176560                Google Phone                1        600   \n",
       "4   176560            Wired Headphones                1      11.99   \n",
       "\n",
       "       Order Date                      Purchase Address  \n",
       "0  04/19/19 08:46          917 1st St, Dallas, TX 75001  \n",
       "1             NaN                                   NaN  \n",
       "2  04/07/19 22:30     682 Chestnut St, Boston, MA 02215  \n",
       "3  04/12/19 14:38  669 Spruce St, Los Angeles, CA 90001  \n",
       "4  04/12/19 14:38  669 Spruce St, Los Angeles, CA 90001  "
      ]
     },
     "execution_count": 113,
     "metadata": {},
     "output_type": "execute_result"
    }
   ],
   "source": [
    "df.head()"
   ]
  },
  {
   "cell_type": "markdown",
   "id": "53da17f9",
   "metadata": {},
   "source": [
    "#### exploring the columns and dtypes"
   ]
  },
  {
   "cell_type": "code",
   "execution_count": 114,
   "id": "c0e5e4d2",
   "metadata": {},
   "outputs": [
    {
     "data": {
      "text/plain": [
       "Index(['Order ID', 'Product', 'Quantity Ordered', 'Price Each', 'Order Date',\n",
       "       'Purchase Address'],\n",
       "      dtype='object')"
      ]
     },
     "execution_count": 114,
     "metadata": {},
     "output_type": "execute_result"
    }
   ],
   "source": [
    "df.columns"
   ]
  },
  {
   "cell_type": "code",
   "execution_count": 115,
   "id": "06f3922f",
   "metadata": {},
   "outputs": [
    {
     "data": {
      "text/html": [
       "<div>\n",
       "<style scoped>\n",
       "    .dataframe tbody tr th:only-of-type {\n",
       "        vertical-align: middle;\n",
       "    }\n",
       "\n",
       "    .dataframe tbody tr th {\n",
       "        vertical-align: top;\n",
       "    }\n",
       "\n",
       "    .dataframe thead th {\n",
       "        text-align: right;\n",
       "    }\n",
       "</style>\n",
       "<table border=\"1\" class=\"dataframe\">\n",
       "  <thead>\n",
       "    <tr style=\"text-align: right;\">\n",
       "      <th></th>\n",
       "      <th>Order ID</th>\n",
       "      <th>Product</th>\n",
       "      <th>Quantity Ordered</th>\n",
       "      <th>Price Each</th>\n",
       "      <th>Order Date</th>\n",
       "      <th>Purchase Address</th>\n",
       "    </tr>\n",
       "  </thead>\n",
       "  <tbody>\n",
       "    <tr>\n",
       "      <th>count</th>\n",
       "      <td>186305</td>\n",
       "      <td>186305</td>\n",
       "      <td>186305</td>\n",
       "      <td>186305</td>\n",
       "      <td>186305</td>\n",
       "      <td>186305</td>\n",
       "    </tr>\n",
       "    <tr>\n",
       "      <th>unique</th>\n",
       "      <td>178438</td>\n",
       "      <td>20</td>\n",
       "      <td>10</td>\n",
       "      <td>24</td>\n",
       "      <td>142396</td>\n",
       "      <td>140788</td>\n",
       "    </tr>\n",
       "    <tr>\n",
       "      <th>top</th>\n",
       "      <td>Order ID</td>\n",
       "      <td>USB-C Charging Cable</td>\n",
       "      <td>1</td>\n",
       "      <td>11.95</td>\n",
       "      <td>Order Date</td>\n",
       "      <td>Purchase Address</td>\n",
       "    </tr>\n",
       "    <tr>\n",
       "      <th>freq</th>\n",
       "      <td>355</td>\n",
       "      <td>21903</td>\n",
       "      <td>168552</td>\n",
       "      <td>21903</td>\n",
       "      <td>355</td>\n",
       "      <td>355</td>\n",
       "    </tr>\n",
       "  </tbody>\n",
       "</table>\n",
       "</div>"
      ],
      "text/plain": [
       "        Order ID               Product Quantity Ordered Price Each  \\\n",
       "count     186305                186305           186305     186305   \n",
       "unique    178438                    20               10         24   \n",
       "top     Order ID  USB-C Charging Cable                1      11.95   \n",
       "freq         355                 21903           168552      21903   \n",
       "\n",
       "        Order Date  Purchase Address  \n",
       "count       186305            186305  \n",
       "unique      142396            140788  \n",
       "top     Order Date  Purchase Address  \n",
       "freq           355               355  "
      ]
     },
     "execution_count": 115,
     "metadata": {},
     "output_type": "execute_result"
    }
   ],
   "source": [
    "df.describe()"
   ]
  },
  {
   "cell_type": "code",
   "execution_count": 116,
   "id": "6de692aa",
   "metadata": {},
   "outputs": [
    {
     "name": "stdout",
     "output_type": "stream",
     "text": [
      "<class 'pandas.core.frame.DataFrame'>\n",
      "RangeIndex: 186850 entries, 0 to 186849\n",
      "Data columns (total 6 columns):\n",
      " #   Column            Non-Null Count   Dtype \n",
      "---  ------            --------------   ----- \n",
      " 0   Order ID          186305 non-null  object\n",
      " 1   Product           186305 non-null  object\n",
      " 2   Quantity Ordered  186305 non-null  object\n",
      " 3   Price Each        186305 non-null  object\n",
      " 4   Order Date        186305 non-null  object\n",
      " 5   Purchase Address  186305 non-null  object\n",
      "dtypes: object(6)\n",
      "memory usage: 8.6+ MB\n"
     ]
    }
   ],
   "source": [
    "df.info()"
   ]
  },
  {
   "cell_type": "markdown",
   "id": "f81b0f31",
   "metadata": {},
   "source": [
    "#### renaming the columns"
   ]
  },
  {
   "cell_type": "code",
   "execution_count": 117,
   "id": "11f29a61",
   "metadata": {},
   "outputs": [],
   "source": [
    "df.rename(columns={'Order ID':'Order_ID','Quantity Ordered':'Quantity_Ordered',\n",
    "                   'Price Each':'Price_Each','Order Date':'Order_Date','Purchase Address':'Purchase_Address'},inplace=True)"
   ]
  },
  {
   "cell_type": "code",
   "execution_count": 118,
   "id": "815097b2",
   "metadata": {},
   "outputs": [
    {
     "data": {
      "text/html": [
       "<div>\n",
       "<style scoped>\n",
       "    .dataframe tbody tr th:only-of-type {\n",
       "        vertical-align: middle;\n",
       "    }\n",
       "\n",
       "    .dataframe tbody tr th {\n",
       "        vertical-align: top;\n",
       "    }\n",
       "\n",
       "    .dataframe thead th {\n",
       "        text-align: right;\n",
       "    }\n",
       "</style>\n",
       "<table border=\"1\" class=\"dataframe\">\n",
       "  <thead>\n",
       "    <tr style=\"text-align: right;\">\n",
       "      <th></th>\n",
       "      <th>Order_ID</th>\n",
       "      <th>Product</th>\n",
       "      <th>Quantity_Ordered</th>\n",
       "      <th>Price_Each</th>\n",
       "      <th>Order_Date</th>\n",
       "      <th>Purchase_Address</th>\n",
       "    </tr>\n",
       "  </thead>\n",
       "  <tbody>\n",
       "    <tr>\n",
       "      <th>0</th>\n",
       "      <td>176558</td>\n",
       "      <td>USB-C Charging Cable</td>\n",
       "      <td>2</td>\n",
       "      <td>11.95</td>\n",
       "      <td>04/19/19 08:46</td>\n",
       "      <td>917 1st St, Dallas, TX 75001</td>\n",
       "    </tr>\n",
       "    <tr>\n",
       "      <th>1</th>\n",
       "      <td>NaN</td>\n",
       "      <td>NaN</td>\n",
       "      <td>NaN</td>\n",
       "      <td>NaN</td>\n",
       "      <td>NaN</td>\n",
       "      <td>NaN</td>\n",
       "    </tr>\n",
       "    <tr>\n",
       "      <th>2</th>\n",
       "      <td>176559</td>\n",
       "      <td>Bose SoundSport Headphones</td>\n",
       "      <td>1</td>\n",
       "      <td>99.99</td>\n",
       "      <td>04/07/19 22:30</td>\n",
       "      <td>682 Chestnut St, Boston, MA 02215</td>\n",
       "    </tr>\n",
       "    <tr>\n",
       "      <th>3</th>\n",
       "      <td>176560</td>\n",
       "      <td>Google Phone</td>\n",
       "      <td>1</td>\n",
       "      <td>600</td>\n",
       "      <td>04/12/19 14:38</td>\n",
       "      <td>669 Spruce St, Los Angeles, CA 90001</td>\n",
       "    </tr>\n",
       "    <tr>\n",
       "      <th>4</th>\n",
       "      <td>176560</td>\n",
       "      <td>Wired Headphones</td>\n",
       "      <td>1</td>\n",
       "      <td>11.99</td>\n",
       "      <td>04/12/19 14:38</td>\n",
       "      <td>669 Spruce St, Los Angeles, CA 90001</td>\n",
       "    </tr>\n",
       "  </tbody>\n",
       "</table>\n",
       "</div>"
      ],
      "text/plain": [
       "  Order_ID                     Product Quantity_Ordered Price_Each  \\\n",
       "0   176558        USB-C Charging Cable                2      11.95   \n",
       "1      NaN                         NaN              NaN        NaN   \n",
       "2   176559  Bose SoundSport Headphones                1      99.99   \n",
       "3   176560                Google Phone                1        600   \n",
       "4   176560            Wired Headphones                1      11.99   \n",
       "\n",
       "       Order_Date                      Purchase_Address  \n",
       "0  04/19/19 08:46          917 1st St, Dallas, TX 75001  \n",
       "1             NaN                                   NaN  \n",
       "2  04/07/19 22:30     682 Chestnut St, Boston, MA 02215  \n",
       "3  04/12/19 14:38  669 Spruce St, Los Angeles, CA 90001  \n",
       "4  04/12/19 14:38  669 Spruce St, Los Angeles, CA 90001  "
      ]
     },
     "execution_count": 118,
     "metadata": {},
     "output_type": "execute_result"
    }
   ],
   "source": [
    "df.head()"
   ]
  },
  {
   "cell_type": "markdown",
   "id": "bb38b44b",
   "metadata": {},
   "source": [
    "#### dropping the null and duplicate columns"
   ]
  },
  {
   "cell_type": "code",
   "execution_count": 119,
   "id": "5bb016e9",
   "metadata": {},
   "outputs": [],
   "source": [
    "\n",
    "df.dropna(inplace=True)\n",
    "df.drop_duplicates(inplace=True)"
   ]
  },
  {
   "cell_type": "markdown",
   "id": "cf7232b3",
   "metadata": {},
   "source": [
    "#### creating new column of date and hour from orde_date col and setting the date as index "
   ]
  },
  {
   "cell_type": "code",
   "execution_count": 120,
   "id": "b2116eaf",
   "metadata": {},
   "outputs": [
    {
     "data": {
      "text/html": [
       "<div>\n",
       "<style scoped>\n",
       "    .dataframe tbody tr th:only-of-type {\n",
       "        vertical-align: middle;\n",
       "    }\n",
       "\n",
       "    .dataframe tbody tr th {\n",
       "        vertical-align: top;\n",
       "    }\n",
       "\n",
       "    .dataframe thead th {\n",
       "        text-align: right;\n",
       "    }\n",
       "</style>\n",
       "<table border=\"1\" class=\"dataframe\">\n",
       "  <thead>\n",
       "    <tr style=\"text-align: right;\">\n",
       "      <th></th>\n",
       "      <th>Order_ID</th>\n",
       "      <th>Product</th>\n",
       "      <th>Quantity_Ordered</th>\n",
       "      <th>Price_Each</th>\n",
       "      <th>Purchase_Address</th>\n",
       "      <th>Date</th>\n",
       "      <th>Hour</th>\n",
       "    </tr>\n",
       "    <tr>\n",
       "      <th>Date</th>\n",
       "      <th></th>\n",
       "      <th></th>\n",
       "      <th></th>\n",
       "      <th></th>\n",
       "      <th></th>\n",
       "      <th></th>\n",
       "      <th></th>\n",
       "    </tr>\n",
       "  </thead>\n",
       "  <tbody>\n",
       "    <tr>\n",
       "      <th>2019-01-01</th>\n",
       "      <td>144159</td>\n",
       "      <td>AA Batteries (4-pack)</td>\n",
       "      <td>1</td>\n",
       "      <td>3.84</td>\n",
       "      <td>269 Main St, Atlanta, GA 30301</td>\n",
       "      <td>2019-01-01</td>\n",
       "      <td>21</td>\n",
       "    </tr>\n",
       "    <tr>\n",
       "      <th>2019-01-01</th>\n",
       "      <td>144804</td>\n",
       "      <td>Wired Headphones</td>\n",
       "      <td>1</td>\n",
       "      <td>11.99</td>\n",
       "      <td>628 Lake St, New York City, NY 10001</td>\n",
       "      <td>2019-01-01</td>\n",
       "      <td>07</td>\n",
       "    </tr>\n",
       "    <tr>\n",
       "      <th>2019-01-01</th>\n",
       "      <td>147019</td>\n",
       "      <td>Bose SoundSport Headphones</td>\n",
       "      <td>1</td>\n",
       "      <td>99.99</td>\n",
       "      <td>560 Forest St, New York City, NY 10001</td>\n",
       "      <td>2019-01-01</td>\n",
       "      <td>22</td>\n",
       "    </tr>\n",
       "    <tr>\n",
       "      <th>2019-01-01</th>\n",
       "      <td>142451</td>\n",
       "      <td>AAA Batteries (4-pack)</td>\n",
       "      <td>1</td>\n",
       "      <td>2.99</td>\n",
       "      <td>232 12th St, Boston, MA 02215</td>\n",
       "      <td>2019-01-01</td>\n",
       "      <td>06</td>\n",
       "    </tr>\n",
       "    <tr>\n",
       "      <th>2019-01-01</th>\n",
       "      <td>145270</td>\n",
       "      <td>Google Phone</td>\n",
       "      <td>1</td>\n",
       "      <td>600</td>\n",
       "      <td>392 4th St, Dallas, TX 75001</td>\n",
       "      <td>2019-01-01</td>\n",
       "      <td>07</td>\n",
       "    </tr>\n",
       "    <tr>\n",
       "      <th>...</th>\n",
       "      <td>...</td>\n",
       "      <td>...</td>\n",
       "      <td>...</td>\n",
       "      <td>...</td>\n",
       "      <td>...</td>\n",
       "      <td>...</td>\n",
       "      <td>...</td>\n",
       "    </tr>\n",
       "    <tr>\n",
       "      <th>2020-01-01</th>\n",
       "      <td>306809</td>\n",
       "      <td>Macbook Pro Laptop</td>\n",
       "      <td>1</td>\n",
       "      <td>1700</td>\n",
       "      <td>326 14th St, Dallas, TX 75001</td>\n",
       "      <td>2020-01-01</td>\n",
       "      <td>02</td>\n",
       "    </tr>\n",
       "    <tr>\n",
       "      <th>2020-01-01</th>\n",
       "      <td>300362</td>\n",
       "      <td>USB-C Charging Cable</td>\n",
       "      <td>1</td>\n",
       "      <td>11.95</td>\n",
       "      <td>581 River St, San Francisco, CA 94016</td>\n",
       "      <td>2020-01-01</td>\n",
       "      <td>00</td>\n",
       "    </tr>\n",
       "    <tr>\n",
       "      <th>2020-01-01</th>\n",
       "      <td>306928</td>\n",
       "      <td>ThinkPad Laptop</td>\n",
       "      <td>1</td>\n",
       "      <td>999.99</td>\n",
       "      <td>762 Elm St, Boston, MA 02215</td>\n",
       "      <td>2020-01-01</td>\n",
       "      <td>03</td>\n",
       "    </tr>\n",
       "    <tr>\n",
       "      <th>2020-01-01</th>\n",
       "      <td>319366</td>\n",
       "      <td>20in Monitor</td>\n",
       "      <td>2</td>\n",
       "      <td>109.99</td>\n",
       "      <td>746 South St, San Francisco, CA 94016</td>\n",
       "      <td>2020-01-01</td>\n",
       "      <td>00</td>\n",
       "    </tr>\n",
       "    <tr>\n",
       "      <th>NaT</th>\n",
       "      <td>Order ID</td>\n",
       "      <td>Product</td>\n",
       "      <td>Quantity Ordered</td>\n",
       "      <td>Price Each</td>\n",
       "      <td>Purchase Address</td>\n",
       "      <td>NaT</td>\n",
       "      <td>Date</td>\n",
       "    </tr>\n",
       "  </tbody>\n",
       "</table>\n",
       "<p>185687 rows × 7 columns</p>\n",
       "</div>"
      ],
      "text/plain": [
       "            Order_ID                     Product  Quantity_Ordered  \\\n",
       "Date                                                                 \n",
       "2019-01-01    144159       AA Batteries (4-pack)                 1   \n",
       "2019-01-01    144804            Wired Headphones                 1   \n",
       "2019-01-01    147019  Bose SoundSport Headphones                 1   \n",
       "2019-01-01    142451      AAA Batteries (4-pack)                 1   \n",
       "2019-01-01    145270                Google Phone                 1   \n",
       "...              ...                         ...               ...   \n",
       "2020-01-01    306809          Macbook Pro Laptop                 1   \n",
       "2020-01-01    300362        USB-C Charging Cable                 1   \n",
       "2020-01-01    306928             ThinkPad Laptop                 1   \n",
       "2020-01-01    319366                20in Monitor                 2   \n",
       "NaT         Order ID                     Product  Quantity Ordered   \n",
       "\n",
       "            Price_Each                        Purchase_Address       Date  \\\n",
       "Date                                                                        \n",
       "2019-01-01        3.84          269 Main St, Atlanta, GA 30301 2019-01-01   \n",
       "2019-01-01       11.99    628 Lake St, New York City, NY 10001 2019-01-01   \n",
       "2019-01-01       99.99  560 Forest St, New York City, NY 10001 2019-01-01   \n",
       "2019-01-01        2.99           232 12th St, Boston, MA 02215 2019-01-01   \n",
       "2019-01-01         600            392 4th St, Dallas, TX 75001 2019-01-01   \n",
       "...                ...                                     ...        ...   \n",
       "2020-01-01        1700           326 14th St, Dallas, TX 75001 2020-01-01   \n",
       "2020-01-01       11.95   581 River St, San Francisco, CA 94016 2020-01-01   \n",
       "2020-01-01      999.99            762 Elm St, Boston, MA 02215 2020-01-01   \n",
       "2020-01-01      109.99   746 South St, San Francisco, CA 94016 2020-01-01   \n",
       "NaT         Price Each                        Purchase Address        NaT   \n",
       "\n",
       "            Hour  \n",
       "Date              \n",
       "2019-01-01    21  \n",
       "2019-01-01    07  \n",
       "2019-01-01    22  \n",
       "2019-01-01    06  \n",
       "2019-01-01    07  \n",
       "...          ...  \n",
       "2020-01-01    02  \n",
       "2020-01-01    00  \n",
       "2020-01-01    03  \n",
       "2020-01-01    00  \n",
       "NaT         Date  \n",
       "\n",
       "[185687 rows x 7 columns]"
      ]
     },
     "execution_count": 120,
     "metadata": {},
     "output_type": "execute_result"
    }
   ],
   "source": [
    "df['Date']=df.Order_Date.apply(lambda x: x.split(\" \")[0])\n",
    "df['Hour']=df.Order_Date.map(lambda x: x.split(\" \")[1].split(\":\")[0])\n",
    "df.drop(columns=\"Order_Date\",inplace=True)\n",
    "df['Date']=pd.to_datetime(df['Date'],format=\"%m/%d/%y\",errors='coerce')\n",
    "df.set_index(df['Date'],drop=True,inplace=True)\n",
    "df.sort_index()"
   ]
  },
  {
   "cell_type": "markdown",
   "id": "5bbf4919",
   "metadata": {},
   "source": [
    "#### now deleting the date col"
   ]
  },
  {
   "cell_type": "code",
   "execution_count": 121,
   "id": "d385c340",
   "metadata": {},
   "outputs": [],
   "source": [
    "df.drop(columns=['Date'],inplace=True)"
   ]
  },
  {
   "cell_type": "markdown",
   "id": "c7709ac8",
   "metadata": {},
   "source": [
    "#### alterting the dtypes and  Now you can convert the \"Quantity Ordered\" column to integers"
   ]
  },
  {
   "cell_type": "code",
   "execution_count": 122,
   "id": "c75d140c",
   "metadata": {},
   "outputs": [],
   "source": [
    "df = df[pd.to_numeric(df['Quantity_Ordered'], errors='coerce').notnull()]\n",
    "df['Quantity_Ordered'] = df['Quantity_Ordered'].astype(int);\n",
    "df['Price_Each']=df['Price_Each'].astype(float,32)"
   ]
  },
  {
   "cell_type": "code",
   "execution_count": 123,
   "id": "0fbcd730",
   "metadata": {},
   "outputs": [
    {
     "data": {
      "text/html": [
       "<div>\n",
       "<style scoped>\n",
       "    .dataframe tbody tr th:only-of-type {\n",
       "        vertical-align: middle;\n",
       "    }\n",
       "\n",
       "    .dataframe tbody tr th {\n",
       "        vertical-align: top;\n",
       "    }\n",
       "\n",
       "    .dataframe thead th {\n",
       "        text-align: right;\n",
       "    }\n",
       "</style>\n",
       "<table border=\"1\" class=\"dataframe\">\n",
       "  <thead>\n",
       "    <tr style=\"text-align: right;\">\n",
       "      <th></th>\n",
       "      <th>Order_ID</th>\n",
       "      <th>Product</th>\n",
       "      <th>Quantity_Ordered</th>\n",
       "      <th>Price_Each</th>\n",
       "      <th>Purchase_Address</th>\n",
       "      <th>Hour</th>\n",
       "    </tr>\n",
       "    <tr>\n",
       "      <th>Date</th>\n",
       "      <th></th>\n",
       "      <th></th>\n",
       "      <th></th>\n",
       "      <th></th>\n",
       "      <th></th>\n",
       "      <th></th>\n",
       "    </tr>\n",
       "  </thead>\n",
       "  <tbody>\n",
       "    <tr>\n",
       "      <th>2019-04-19</th>\n",
       "      <td>176558</td>\n",
       "      <td>USB-C Charging Cable</td>\n",
       "      <td>2</td>\n",
       "      <td>11.95</td>\n",
       "      <td>917 1st St, Dallas, TX 75001</td>\n",
       "      <td>08</td>\n",
       "    </tr>\n",
       "    <tr>\n",
       "      <th>2019-04-07</th>\n",
       "      <td>176559</td>\n",
       "      <td>Bose SoundSport Headphones</td>\n",
       "      <td>1</td>\n",
       "      <td>99.99</td>\n",
       "      <td>682 Chestnut St, Boston, MA 02215</td>\n",
       "      <td>22</td>\n",
       "    </tr>\n",
       "    <tr>\n",
       "      <th>2019-04-12</th>\n",
       "      <td>176560</td>\n",
       "      <td>Google Phone</td>\n",
       "      <td>1</td>\n",
       "      <td>600.00</td>\n",
       "      <td>669 Spruce St, Los Angeles, CA 90001</td>\n",
       "      <td>14</td>\n",
       "    </tr>\n",
       "    <tr>\n",
       "      <th>2019-04-12</th>\n",
       "      <td>176560</td>\n",
       "      <td>Wired Headphones</td>\n",
       "      <td>1</td>\n",
       "      <td>11.99</td>\n",
       "      <td>669 Spruce St, Los Angeles, CA 90001</td>\n",
       "      <td>14</td>\n",
       "    </tr>\n",
       "    <tr>\n",
       "      <th>2019-04-30</th>\n",
       "      <td>176561</td>\n",
       "      <td>Wired Headphones</td>\n",
       "      <td>1</td>\n",
       "      <td>11.99</td>\n",
       "      <td>333 8th St, Los Angeles, CA 90001</td>\n",
       "      <td>09</td>\n",
       "    </tr>\n",
       "  </tbody>\n",
       "</table>\n",
       "</div>"
      ],
      "text/plain": [
       "           Order_ID                     Product  Quantity_Ordered  Price_Each  \\\n",
       "Date                                                                            \n",
       "2019-04-19   176558        USB-C Charging Cable                 2       11.95   \n",
       "2019-04-07   176559  Bose SoundSport Headphones                 1       99.99   \n",
       "2019-04-12   176560                Google Phone                 1      600.00   \n",
       "2019-04-12   176560            Wired Headphones                 1       11.99   \n",
       "2019-04-30   176561            Wired Headphones                 1       11.99   \n",
       "\n",
       "                                Purchase_Address Hour  \n",
       "Date                                                   \n",
       "2019-04-19          917 1st St, Dallas, TX 75001   08  \n",
       "2019-04-07     682 Chestnut St, Boston, MA 02215   22  \n",
       "2019-04-12  669 Spruce St, Los Angeles, CA 90001   14  \n",
       "2019-04-12  669 Spruce St, Los Angeles, CA 90001   14  \n",
       "2019-04-30     333 8th St, Los Angeles, CA 90001   09  "
      ]
     },
     "execution_count": 123,
     "metadata": {},
     "output_type": "execute_result"
    }
   ],
   "source": [
    "df.head()"
   ]
  },
  {
   "cell_type": "markdown",
   "id": "5a66b6bb",
   "metadata": {},
   "source": [
    "#### Print different products sold"
   ]
  },
  {
   "cell_type": "code",
   "execution_count": 124,
   "id": "6550eee5",
   "metadata": {},
   "outputs": [
    {
     "data": {
      "text/plain": [
       "array(['USB-C Charging Cable', 'Bose SoundSport Headphones',\n",
       "       'Google Phone', 'Wired Headphones', 'Macbook Pro Laptop',\n",
       "       'Lightning Charging Cable', '27in 4K Gaming Monitor',\n",
       "       'AA Batteries (4-pack)', 'Apple Airpods Headphones',\n",
       "       'AAA Batteries (4-pack)', 'iPhone', 'Flatscreen TV',\n",
       "       '27in FHD Monitor', '20in Monitor', 'LG Dryer', 'ThinkPad Laptop',\n",
       "       'Vareebadd Phone', 'LG Washing Machine', '34in Ultrawide Monitor'],\n",
       "      dtype=object)"
      ]
     },
     "execution_count": 124,
     "metadata": {},
     "output_type": "execute_result"
    }
   ],
   "source": [
    "df.Product.unique()"
   ]
  },
  {
   "cell_type": "markdown",
   "id": "0830f602",
   "metadata": {},
   "source": [
    "#### how many months of data is there\n"
   ]
  },
  {
   "cell_type": "code",
   "execution_count": 125,
   "id": "10df98dd",
   "metadata": {},
   "outputs": [
    {
     "data": {
      "text/html": [
       "<div>\n",
       "<style scoped>\n",
       "    .dataframe tbody tr th:only-of-type {\n",
       "        vertical-align: middle;\n",
       "    }\n",
       "\n",
       "    .dataframe tbody tr th {\n",
       "        vertical-align: top;\n",
       "    }\n",
       "\n",
       "    .dataframe thead th {\n",
       "        text-align: right;\n",
       "    }\n",
       "</style>\n",
       "<table border=\"1\" class=\"dataframe\">\n",
       "  <thead>\n",
       "    <tr style=\"text-align: right;\">\n",
       "      <th></th>\n",
       "      <th>Order_ID</th>\n",
       "      <th>Product</th>\n",
       "      <th>Quantity_Ordered</th>\n",
       "      <th>Price_Each</th>\n",
       "      <th>Purchase_Address</th>\n",
       "      <th>Hour</th>\n",
       "    </tr>\n",
       "    <tr>\n",
       "      <th>Date</th>\n",
       "      <th></th>\n",
       "      <th></th>\n",
       "      <th></th>\n",
       "      <th></th>\n",
       "      <th></th>\n",
       "      <th></th>\n",
       "    </tr>\n",
       "  </thead>\n",
       "  <tbody>\n",
       "    <tr>\n",
       "      <th>2019-09-17</th>\n",
       "      <td>259353</td>\n",
       "      <td>AAA Batteries (4-pack)</td>\n",
       "      <td>3</td>\n",
       "      <td>2.99</td>\n",
       "      <td>840 Highland St, Los Angeles, CA 90001</td>\n",
       "      <td>20</td>\n",
       "    </tr>\n",
       "    <tr>\n",
       "      <th>2019-09-01</th>\n",
       "      <td>259354</td>\n",
       "      <td>iPhone</td>\n",
       "      <td>1</td>\n",
       "      <td>700.00</td>\n",
       "      <td>216 Dogwood St, San Francisco, CA 94016</td>\n",
       "      <td>16</td>\n",
       "    </tr>\n",
       "    <tr>\n",
       "      <th>2019-09-23</th>\n",
       "      <td>259355</td>\n",
       "      <td>iPhone</td>\n",
       "      <td>1</td>\n",
       "      <td>700.00</td>\n",
       "      <td>220 12th St, San Francisco, CA 94016</td>\n",
       "      <td>07</td>\n",
       "    </tr>\n",
       "    <tr>\n",
       "      <th>2019-09-19</th>\n",
       "      <td>259356</td>\n",
       "      <td>34in Ultrawide Monitor</td>\n",
       "      <td>1</td>\n",
       "      <td>379.99</td>\n",
       "      <td>511 Forest St, San Francisco, CA 94016</td>\n",
       "      <td>17</td>\n",
       "    </tr>\n",
       "    <tr>\n",
       "      <th>2019-09-30</th>\n",
       "      <td>259357</td>\n",
       "      <td>USB-C Charging Cable</td>\n",
       "      <td>1</td>\n",
       "      <td>11.95</td>\n",
       "      <td>250 Meadow St, San Francisco, CA 94016</td>\n",
       "      <td>00</td>\n",
       "    </tr>\n",
       "  </tbody>\n",
       "</table>\n",
       "</div>"
      ],
      "text/plain": [
       "           Order_ID                 Product  Quantity_Ordered  Price_Each  \\\n",
       "Date                                                                        \n",
       "2019-09-17   259353  AAA Batteries (4-pack)                 3        2.99   \n",
       "2019-09-01   259354                  iPhone                 1      700.00   \n",
       "2019-09-23   259355                  iPhone                 1      700.00   \n",
       "2019-09-19   259356  34in Ultrawide Monitor                 1      379.99   \n",
       "2019-09-30   259357    USB-C Charging Cable                 1       11.95   \n",
       "\n",
       "                                   Purchase_Address Hour  \n",
       "Date                                                      \n",
       "2019-09-17   840 Highland St, Los Angeles, CA 90001   20  \n",
       "2019-09-01  216 Dogwood St, San Francisco, CA 94016   16  \n",
       "2019-09-23     220 12th St, San Francisco, CA 94016   07  \n",
       "2019-09-19   511 Forest St, San Francisco, CA 94016   17  \n",
       "2019-09-30   250 Meadow St, San Francisco, CA 94016   00  "
      ]
     },
     "execution_count": 125,
     "metadata": {},
     "output_type": "execute_result"
    }
   ],
   "source": [
    "df.tail()\n",
    "# so there are 9 months of data"
   ]
  },
  {
   "cell_type": "markdown",
   "id": "61c6fa06",
   "metadata": {},
   "source": [
    "#### creating new col of total price"
   ]
  },
  {
   "cell_type": "code",
   "execution_count": 126,
   "id": "959fcb47",
   "metadata": {},
   "outputs": [],
   "source": [
    "df['Total']=df['Quantity_Ordered']*df['Price_Each']"
   ]
  },
  {
   "cell_type": "code",
   "execution_count": 127,
   "id": "80d82b5b",
   "metadata": {},
   "outputs": [],
   "source": [
    "df.sort_index(inplace=True)"
   ]
  },
  {
   "cell_type": "markdown",
   "id": "2bd40212",
   "metadata": {},
   "source": [
    "#### print the total sales of each month "
   ]
  },
  {
   "cell_type": "code",
   "execution_count": 209,
   "id": "f7249386",
   "metadata": {},
   "outputs": [
    {
     "data": {
      "text/html": [
       "<div>\n",
       "<style scoped>\n",
       "    .dataframe tbody tr th:only-of-type {\n",
       "        vertical-align: middle;\n",
       "    }\n",
       "\n",
       "    .dataframe tbody tr th {\n",
       "        vertical-align: top;\n",
       "    }\n",
       "\n",
       "    .dataframe thead th {\n",
       "        text-align: right;\n",
       "    }\n",
       "</style>\n",
       "<table border=\"1\" class=\"dataframe\">\n",
       "  <thead>\n",
       "    <tr style=\"text-align: right;\">\n",
       "      <th></th>\n",
       "      <th>Total_Monthly_Sales</th>\n",
       "    </tr>\n",
       "    <tr>\n",
       "      <th>Date</th>\n",
       "      <th></th>\n",
       "    </tr>\n",
       "  </thead>\n",
       "  <tbody>\n",
       "    <tr>\n",
       "      <th>2019-01-31</th>\n",
       "      <td>1812742.87</td>\n",
       "    </tr>\n",
       "    <tr>\n",
       "      <th>2019-02-28</th>\n",
       "      <td>2200078.08</td>\n",
       "    </tr>\n",
       "    <tr>\n",
       "      <th>2019-03-31</th>\n",
       "      <td>2804973.35</td>\n",
       "    </tr>\n",
       "    <tr>\n",
       "      <th>2019-04-30</th>\n",
       "      <td>3389217.98</td>\n",
       "    </tr>\n",
       "    <tr>\n",
       "      <th>2019-05-31</th>\n",
       "      <td>3150616.23</td>\n",
       "    </tr>\n",
       "    <tr>\n",
       "      <th>2019-06-30</th>\n",
       "      <td>2576280.15</td>\n",
       "    </tr>\n",
       "    <tr>\n",
       "      <th>2019-07-31</th>\n",
       "      <td>2646461.32</td>\n",
       "    </tr>\n",
       "    <tr>\n",
       "      <th>2019-08-31</th>\n",
       "      <td>2241083.37</td>\n",
       "    </tr>\n",
       "    <tr>\n",
       "      <th>2019-09-30</th>\n",
       "      <td>2094465.69</td>\n",
       "    </tr>\n",
       "    <tr>\n",
       "      <th>2019-10-31</th>\n",
       "      <td>3734777.86</td>\n",
       "    </tr>\n",
       "    <tr>\n",
       "      <th>2019-11-30</th>\n",
       "      <td>3197875.05</td>\n",
       "    </tr>\n",
       "    <tr>\n",
       "      <th>2019-12-31</th>\n",
       "      <td>4608295.70</td>\n",
       "    </tr>\n",
       "    <tr>\n",
       "      <th>2020-01-31</th>\n",
       "      <td>8670.29</td>\n",
       "    </tr>\n",
       "  </tbody>\n",
       "</table>\n",
       "</div>"
      ],
      "text/plain": [
       "            Total_Monthly_Sales\n",
       "Date                           \n",
       "2019-01-31           1812742.87\n",
       "2019-02-28           2200078.08\n",
       "2019-03-31           2804973.35\n",
       "2019-04-30           3389217.98\n",
       "2019-05-31           3150616.23\n",
       "2019-06-30           2576280.15\n",
       "2019-07-31           2646461.32\n",
       "2019-08-31           2241083.37\n",
       "2019-09-30           2094465.69\n",
       "2019-10-31           3734777.86\n",
       "2019-11-30           3197875.05\n",
       "2019-12-31           4608295.70\n",
       "2020-01-31              8670.29"
      ]
     },
     "execution_count": 209,
     "metadata": {},
     "output_type": "execute_result"
    }
   ],
   "source": [
    "mon_sales=df.loc[\"2019-01\":\"2020-01\"].resample('M')['Total'].agg(Total_Monthly_Sales=('sum'))\n",
    "mon_sales"
   ]
  },
  {
   "cell_type": "markdown",
   "id": "c0874e64",
   "metadata": {},
   "source": [
    "#### creating a new column of city from existing Purchase_Address col"
   ]
  },
  {
   "cell_type": "code",
   "execution_count": 129,
   "id": "c57700bc",
   "metadata": {},
   "outputs": [],
   "source": [
    "df['City']=df['Purchase_Address'].map(lambda x: x.split(\",\")[1])"
   ]
  },
  {
   "cell_type": "markdown",
   "id": "e0822b58",
   "metadata": {},
   "source": [
    "#### which was the most selling product"
   ]
  },
  {
   "cell_type": "code",
   "execution_count": 130,
   "id": "8357e0e5",
   "metadata": {},
   "outputs": [
    {
     "data": {
      "text/plain": [
       "Product\n",
       "USB-C Charging Cable        21859\n",
       "Lightning Charging Cable    21610\n",
       "AAA Batteries (4-pack)      20612\n",
       "AA Batteries (4-pack)       20558\n",
       "Wired Headphones            18849\n",
       "Name: count, dtype: int64"
      ]
     },
     "execution_count": 130,
     "metadata": {},
     "output_type": "execute_result"
    }
   ],
   "source": [
    "dta=df.Product.value_counts()\n",
    "dta.nlargest(5)"
   ]
  },
  {
   "cell_type": "markdown",
   "id": "486350a2",
   "metadata": {},
   "source": [
    "#### which city has heighest sales in past 5 months"
   ]
  },
  {
   "cell_type": "code",
   "execution_count": 131,
   "id": "ae90c134",
   "metadata": {},
   "outputs": [
    {
     "data": {
      "text/plain": [
       "City\n",
       " Atlanta          1952553.83\n",
       " Austin           1295023.55\n",
       " Boston           2590868.22\n",
       " Dallas           1963373.16\n",
       " Los Angeles      3839061.77\n",
       " New York City    3281464.97\n",
       " Portland         1628133.35\n",
       " San Francisco    5769286.00\n",
       " Seattle          1938760.81\n",
       "Name: Total, dtype: float64"
      ]
     },
     "execution_count": 131,
     "metadata": {},
     "output_type": "execute_result"
    }
   ],
   "source": [
    "sales=df.loc['2019-05':].groupby('City')['Total'].agg('sum')\n",
    "sales"
   ]
  },
  {
   "cell_type": "markdown",
   "id": "ff092b43",
   "metadata": {},
   "source": [
    "#### in which hour the sales is maximum"
   ]
  },
  {
   "cell_type": "code",
   "execution_count": 132,
   "id": "3323b38f",
   "metadata": {},
   "outputs": [
    {
     "data": {
      "text/html": [
       "<div>\n",
       "<style scoped>\n",
       "    .dataframe tbody tr th:only-of-type {\n",
       "        vertical-align: middle;\n",
       "    }\n",
       "\n",
       "    .dataframe tbody tr th {\n",
       "        vertical-align: top;\n",
       "    }\n",
       "\n",
       "    .dataframe thead th {\n",
       "        text-align: right;\n",
       "    }\n",
       "</style>\n",
       "<table border=\"1\" class=\"dataframe\">\n",
       "  <thead>\n",
       "    <tr style=\"text-align: right;\">\n",
       "      <th></th>\n",
       "      <th>Total_Sales</th>\n",
       "    </tr>\n",
       "    <tr>\n",
       "      <th>Hour</th>\n",
       "      <th></th>\n",
       "    </tr>\n",
       "  </thead>\n",
       "  <tbody>\n",
       "    <tr>\n",
       "      <th>19</th>\n",
       "      <td>2411971.14</td>\n",
       "    </tr>\n",
       "    <tr>\n",
       "      <th>12</th>\n",
       "      <td>2314359.85</td>\n",
       "    </tr>\n",
       "    <tr>\n",
       "      <th>11</th>\n",
       "      <td>2296619.84</td>\n",
       "    </tr>\n",
       "    <tr>\n",
       "      <th>20</th>\n",
       "      <td>2280784.36</td>\n",
       "    </tr>\n",
       "    <tr>\n",
       "      <th>18</th>\n",
       "      <td>2218374.01</td>\n",
       "    </tr>\n",
       "  </tbody>\n",
       "</table>\n",
       "</div>"
      ],
      "text/plain": [
       "      Total_Sales\n",
       "Hour             \n",
       "19     2411971.14\n",
       "12     2314359.85\n",
       "11     2296619.84\n",
       "20     2280784.36\n",
       "18     2218374.01"
      ]
     },
     "execution_count": 132,
     "metadata": {},
     "output_type": "execute_result"
    }
   ],
   "source": [
    "df.groupby(df['Hour'])['Total'].agg(Total_Sales=('sum')).sort_values(by=\"Total_Sales\",ascending=False).head()"
   ]
  },
  {
   "cell_type": "markdown",
   "id": "12718814",
   "metadata": {},
   "source": [
    "#### Weekly Sales of month jan"
   ]
  },
  {
   "cell_type": "code",
   "execution_count": 133,
   "id": "1a5b5456",
   "metadata": {},
   "outputs": [
    {
     "data": {
      "text/plain": [
       "Date\n",
       "2019-01-06    344678.73\n",
       "2019-01-13    409389.43\n",
       "2019-01-20    394921.11\n",
       "2019-01-27    426020.17\n",
       "2019-02-03    175350.30\n",
       "Freq: W-SUN, Name: Total, dtype: float64"
      ]
     },
     "execution_count": 133,
     "metadata": {},
     "output_type": "execute_result"
    }
   ],
   "source": [
    "data=df.loc[\"2019-01-01\":\"2019-01-30\"].resample('W')['Total'].agg('sum')\n",
    "data"
   ]
  },
  {
   "cell_type": "markdown",
   "id": "fdadc475",
   "metadata": {},
   "source": [
    "#### compare the sales of Google phone in each month"
   ]
  },
  {
   "cell_type": "code",
   "execution_count": 134,
   "id": "95254c24",
   "metadata": {},
   "outputs": [
    {
     "data": {
      "text/html": [
       "<div>\n",
       "<style scoped>\n",
       "    .dataframe tbody tr th:only-of-type {\n",
       "        vertical-align: middle;\n",
       "    }\n",
       "\n",
       "    .dataframe tbody tr th {\n",
       "        vertical-align: top;\n",
       "    }\n",
       "\n",
       "    .dataframe thead th {\n",
       "        text-align: right;\n",
       "    }\n",
       "</style>\n",
       "<table border=\"1\" class=\"dataframe\">\n",
       "  <thead>\n",
       "    <tr style=\"text-align: right;\">\n",
       "      <th></th>\n",
       "      <th>Quantity</th>\n",
       "    </tr>\n",
       "  </thead>\n",
       "  <tbody>\n",
       "    <tr>\n",
       "      <th>2019-01-31</th>\n",
       "      <td>317</td>\n",
       "    </tr>\n",
       "    <tr>\n",
       "      <th>2019-02-28</th>\n",
       "      <td>379</td>\n",
       "    </tr>\n",
       "    <tr>\n",
       "      <th>2019-03-31</th>\n",
       "      <td>463</td>\n",
       "    </tr>\n",
       "    <tr>\n",
       "      <th>2019-04-30</th>\n",
       "      <td>580</td>\n",
       "    </tr>\n",
       "    <tr>\n",
       "      <th>2019-05-31</th>\n",
       "      <td>479</td>\n",
       "    </tr>\n",
       "    <tr>\n",
       "      <th>2019-06-30</th>\n",
       "      <td>391</td>\n",
       "    </tr>\n",
       "    <tr>\n",
       "      <th>2019-07-31</th>\n",
       "      <td>410</td>\n",
       "    </tr>\n",
       "    <tr>\n",
       "      <th>2019-08-31</th>\n",
       "      <td>359</td>\n",
       "    </tr>\n",
       "    <tr>\n",
       "      <th>2019-09-30</th>\n",
       "      <td>341</td>\n",
       "    </tr>\n",
       "  </tbody>\n",
       "</table>\n",
       "</div>"
      ],
      "text/plain": [
       "            Quantity\n",
       "2019-01-31       317\n",
       "2019-02-28       379\n",
       "2019-03-31       463\n",
       "2019-04-30       580\n",
       "2019-05-31       479\n",
       "2019-06-30       391\n",
       "2019-07-31       410\n",
       "2019-08-31       359\n",
       "2019-09-30       341"
      ]
     },
     "execution_count": 134,
     "metadata": {},
     "output_type": "execute_result"
    }
   ],
   "source": [
    "def nops(df):\n",
    "    value=[]\n",
    "    for i in range(1,10):\n",
    "        value.append(df.loc[ (df.index.month==i ) & (df.Product=='Google Phone') ]['Order_ID'].count())\n",
    "    date=pd.date_range(start=\"2019-01\",end=\"2019-10\",freq=\"M\")\n",
    "    new=pd.DataFrame({'Quantity':value},index=date)\n",
    "    return new\n",
    "new=nops(df)\n",
    "new"
   ]
  },
  {
   "cell_type": "markdown",
   "id": "923e8a3d",
   "metadata": {},
   "source": [
    "#### in each month which was most selling product"
   ]
  },
  {
   "cell_type": "code",
   "execution_count": 213,
   "id": "0d8c7259",
   "metadata": {},
   "outputs": [
    {
     "name": "stdout",
     "output_type": "stream",
     "text": [
      " Most selling product in January is USB-C Charging Cable and quantity sold is 1171\n",
      " Most selling product in February is USB-C Charging Cable and quantity sold is 1511\n",
      " Most selling product in March is USB-C Charging Cable and quantity sold is 1766\n",
      " Most selling product in April is Lightning Charging Cable and quantity sold is 2197\n",
      " Most selling product in May is Lightning Charging Cable and quantity sold is 1929\n",
      " Most selling product in June is Lightning Charging Cable and quantity sold is 1560\n",
      " Most selling product in July is Lightning Charging Cable and quantity sold is 1690\n",
      " Most selling product in August is AA Batteries (4-pack) and quantity sold is 1357\n",
      " Most selling product in September is USB-C Charging Cable and quantity sold is 1451\n",
      " Most selling product in October is USB-C Charging Cable and quantity sold is 2437\n",
      " Most selling product in November is USB-C Charging Cable and quantity sold is 2054\n",
      " Most selling product in December is USB-C Charging Cable and quantity sold is 2979\n"
     ]
    }
   ],
   "source": [
    "import calendar\n",
    "def most_selling(df1):\n",
    "    for i in range(1,13):\n",
    "        product=(df1.loc[df1.index.month==i].Product.value_counts().nlargest(1).index.values[0])\n",
    "        value=(df1.loc[df1.index.month==i].Product.value_counts().nlargest(1)[0])\n",
    "        month=calendar.month_name[i]\n",
    "        print(f' Most selling product in {month} is {product} and quantity sold is {value}')\n",
    "most_selling(df)        \n"
   ]
  },
  {
   "cell_type": "markdown",
   "id": "7aaac53a",
   "metadata": {},
   "source": [
    "#### order list where order id is same"
   ]
  },
  {
   "cell_type": "code",
   "execution_count": 136,
   "id": "52e3469f",
   "metadata": {},
   "outputs": [
    {
     "data": {
      "text/html": [
       "<div>\n",
       "<style scoped>\n",
       "    .dataframe tbody tr th:only-of-type {\n",
       "        vertical-align: middle;\n",
       "    }\n",
       "\n",
       "    .dataframe tbody tr th {\n",
       "        vertical-align: top;\n",
       "    }\n",
       "\n",
       "    .dataframe thead th {\n",
       "        text-align: right;\n",
       "    }\n",
       "</style>\n",
       "<table border=\"1\" class=\"dataframe\">\n",
       "  <thead>\n",
       "    <tr style=\"text-align: right;\">\n",
       "      <th></th>\n",
       "      <th>Order_ID</th>\n",
       "      <th>Product</th>\n",
       "      <th>Quantity_Ordered</th>\n",
       "      <th>Price_Each</th>\n",
       "      <th>Purchase_Address</th>\n",
       "      <th>Hour</th>\n",
       "      <th>Total</th>\n",
       "      <th>City</th>\n",
       "    </tr>\n",
       "    <tr>\n",
       "      <th>Date</th>\n",
       "      <th></th>\n",
       "      <th></th>\n",
       "      <th></th>\n",
       "      <th></th>\n",
       "      <th></th>\n",
       "      <th></th>\n",
       "      <th></th>\n",
       "      <th></th>\n",
       "    </tr>\n",
       "  </thead>\n",
       "  <tbody>\n",
       "    <tr>\n",
       "      <th>2019-01-01</th>\n",
       "      <td>144804</td>\n",
       "      <td>Wired Headphones</td>\n",
       "      <td>1</td>\n",
       "      <td>11.99</td>\n",
       "      <td>628 Lake St, New York City, NY 10001</td>\n",
       "      <td>07</td>\n",
       "      <td>11.99</td>\n",
       "      <td>New York City</td>\n",
       "    </tr>\n",
       "    <tr>\n",
       "      <th>2019-01-01</th>\n",
       "      <td>144804</td>\n",
       "      <td>iPhone</td>\n",
       "      <td>1</td>\n",
       "      <td>700.00</td>\n",
       "      <td>628 Lake St, New York City, NY 10001</td>\n",
       "      <td>07</td>\n",
       "      <td>700.00</td>\n",
       "      <td>New York City</td>\n",
       "    </tr>\n",
       "    <tr>\n",
       "      <th>2019-01-01</th>\n",
       "      <td>148450</td>\n",
       "      <td>Lightning Charging Cable</td>\n",
       "      <td>1</td>\n",
       "      <td>14.95</td>\n",
       "      <td>761 Lakeview St, Dallas, TX 75001</td>\n",
       "      <td>12</td>\n",
       "      <td>14.95</td>\n",
       "      <td>Dallas</td>\n",
       "    </tr>\n",
       "    <tr>\n",
       "      <th>2019-01-01</th>\n",
       "      <td>148450</td>\n",
       "      <td>iPhone</td>\n",
       "      <td>1</td>\n",
       "      <td>700.00</td>\n",
       "      <td>761 Lakeview St, Dallas, TX 75001</td>\n",
       "      <td>12</td>\n",
       "      <td>700.00</td>\n",
       "      <td>Dallas</td>\n",
       "    </tr>\n",
       "    <tr>\n",
       "      <th>2019-01-01</th>\n",
       "      <td>148074</td>\n",
       "      <td>USB-C Charging Cable</td>\n",
       "      <td>1</td>\n",
       "      <td>11.95</td>\n",
       "      <td>6 Johnson St, Atlanta, GA 30301</td>\n",
       "      <td>11</td>\n",
       "      <td>11.95</td>\n",
       "      <td>Atlanta</td>\n",
       "    </tr>\n",
       "    <tr>\n",
       "      <th>...</th>\n",
       "      <td>...</td>\n",
       "      <td>...</td>\n",
       "      <td>...</td>\n",
       "      <td>...</td>\n",
       "      <td>...</td>\n",
       "      <td>...</td>\n",
       "      <td>...</td>\n",
       "      <td>...</td>\n",
       "    </tr>\n",
       "    <tr>\n",
       "      <th>2020-01-01</th>\n",
       "      <td>297817</td>\n",
       "      <td>Lightning Charging Cable</td>\n",
       "      <td>2</td>\n",
       "      <td>14.95</td>\n",
       "      <td>519 13th St, New York City, NY 10001</td>\n",
       "      <td>00</td>\n",
       "      <td>29.90</td>\n",
       "      <td>New York City</td>\n",
       "    </tr>\n",
       "    <tr>\n",
       "      <th>2020-01-01</th>\n",
       "      <td>311386</td>\n",
       "      <td>Apple Airpods Headphones</td>\n",
       "      <td>1</td>\n",
       "      <td>150.00</td>\n",
       "      <td>730 Pine St, San Francisco, CA 94016</td>\n",
       "      <td>00</td>\n",
       "      <td>150.00</td>\n",
       "      <td>San Francisco</td>\n",
       "    </tr>\n",
       "    <tr>\n",
       "      <th>2020-01-01</th>\n",
       "      <td>311386</td>\n",
       "      <td>iPhone</td>\n",
       "      <td>1</td>\n",
       "      <td>700.00</td>\n",
       "      <td>730 Pine St, San Francisco, CA 94016</td>\n",
       "      <td>00</td>\n",
       "      <td>700.00</td>\n",
       "      <td>San Francisco</td>\n",
       "    </tr>\n",
       "    <tr>\n",
       "      <th>2020-01-01</th>\n",
       "      <td>300519</td>\n",
       "      <td>Lightning Charging Cable</td>\n",
       "      <td>1</td>\n",
       "      <td>14.95</td>\n",
       "      <td>657 Spruce St, New York City, NY 10001</td>\n",
       "      <td>05</td>\n",
       "      <td>14.95</td>\n",
       "      <td>New York City</td>\n",
       "    </tr>\n",
       "    <tr>\n",
       "      <th>2020-01-01</th>\n",
       "      <td>300519</td>\n",
       "      <td>Bose SoundSport Headphones</td>\n",
       "      <td>1</td>\n",
       "      <td>99.99</td>\n",
       "      <td>657 Spruce St, New York City, NY 10001</td>\n",
       "      <td>05</td>\n",
       "      <td>99.99</td>\n",
       "      <td>New York City</td>\n",
       "    </tr>\n",
       "  </tbody>\n",
       "</table>\n",
       "<p>14128 rows × 8 columns</p>\n",
       "</div>"
      ],
      "text/plain": [
       "           Order_ID                     Product  Quantity_Ordered  Price_Each  \\\n",
       "Date                                                                            \n",
       "2019-01-01   144804            Wired Headphones                 1       11.99   \n",
       "2019-01-01   144804                      iPhone                 1      700.00   \n",
       "2019-01-01   148450    Lightning Charging Cable                 1       14.95   \n",
       "2019-01-01   148450                      iPhone                 1      700.00   \n",
       "2019-01-01   148074        USB-C Charging Cable                 1       11.95   \n",
       "...             ...                         ...               ...         ...   \n",
       "2020-01-01   297817    Lightning Charging Cable                 2       14.95   \n",
       "2020-01-01   311386    Apple Airpods Headphones                 1      150.00   \n",
       "2020-01-01   311386                      iPhone                 1      700.00   \n",
       "2020-01-01   300519    Lightning Charging Cable                 1       14.95   \n",
       "2020-01-01   300519  Bose SoundSport Headphones                 1       99.99   \n",
       "\n",
       "                                  Purchase_Address Hour   Total  \\\n",
       "Date                                                              \n",
       "2019-01-01    628 Lake St, New York City, NY 10001   07   11.99   \n",
       "2019-01-01    628 Lake St, New York City, NY 10001   07  700.00   \n",
       "2019-01-01       761 Lakeview St, Dallas, TX 75001   12   14.95   \n",
       "2019-01-01       761 Lakeview St, Dallas, TX 75001   12  700.00   \n",
       "2019-01-01         6 Johnson St, Atlanta, GA 30301   11   11.95   \n",
       "...                                            ...  ...     ...   \n",
       "2020-01-01    519 13th St, New York City, NY 10001   00   29.90   \n",
       "2020-01-01    730 Pine St, San Francisco, CA 94016   00  150.00   \n",
       "2020-01-01    730 Pine St, San Francisco, CA 94016   00  700.00   \n",
       "2020-01-01  657 Spruce St, New York City, NY 10001   05   14.95   \n",
       "2020-01-01  657 Spruce St, New York City, NY 10001   05   99.99   \n",
       "\n",
       "                      City  \n",
       "Date                        \n",
       "2019-01-01   New York City  \n",
       "2019-01-01   New York City  \n",
       "2019-01-01          Dallas  \n",
       "2019-01-01          Dallas  \n",
       "2019-01-01         Atlanta  \n",
       "...                    ...  \n",
       "2020-01-01   New York City  \n",
       "2020-01-01   San Francisco  \n",
       "2020-01-01   San Francisco  \n",
       "2020-01-01   New York City  \n",
       "2020-01-01   New York City  \n",
       "\n",
       "[14128 rows x 8 columns]"
      ]
     },
     "execution_count": 136,
     "metadata": {},
     "output_type": "execute_result"
    }
   ],
   "source": [
    "new=df.loc[df.Order_ID.duplicated(keep=False)]\n",
    "new\n",
    "# new.loc[ (new.index.duplicated() & new.Order_ID.duplicated() & df.Purchase_Address.duplicated() )]"
   ]
  },
  {
   "cell_type": "markdown",
   "id": "f94cee4c",
   "metadata": {},
   "source": [
    "#### most sold combination item "
   ]
  },
  {
   "cell_type": "code",
   "execution_count": 137,
   "id": "481e2817",
   "metadata": {},
   "outputs": [
    {
     "data": {
      "text/plain": [
       "Product\n",
       "Lightning Charging Cable+iPhone      455\n",
       "iPhone+Lightning Charging Cable      440\n",
       "USB-C Charging Cable+Google Phone    436\n",
       "Google Phone+USB-C Charging Cable    433\n",
       "iPhone+Wired Headphones              191\n",
       "Name: count, dtype: int64"
      ]
     },
     "execution_count": 137,
     "metadata": {},
     "output_type": "execute_result"
    }
   ],
   "source": [
    "grouped=new.groupby('Order_ID').agg({'Product':lambda x: \"+\".join(x),\"Total\":'sum'})\n",
    "grouped\n",
    "data=grouped.Product.value_counts().head()\n",
    "data\n",
    "# so we can see that most sold combination is lightening charging cabel and iphone\n",
    "# lets plot this thenb"
   ]
  },
  {
   "cell_type": "markdown",
   "id": "f81498f4",
   "metadata": {},
   "source": [
    "#### which city has largest sales of iphone and which has lowest"
   ]
  },
  {
   "cell_type": "code",
   "execution_count": 138,
   "id": "1faafe09",
   "metadata": {},
   "outputs": [
    {
     "data": {
      "text/plain": [
       "City\n",
       " Atlanta           544\n",
       " Austin            377\n",
       " Boston            752\n",
       " Dallas            519\n",
       " Los Angeles      1118\n",
       " New York City     881\n",
       " Portland          450\n",
       " San Francisco    1660\n",
       " Seattle           546\n",
       "Name: Quantity_Ordered, dtype: int32"
      ]
     },
     "execution_count": 138,
     "metadata": {},
     "output_type": "execute_result"
    }
   ],
   "source": [
    "iphone_sold=df.query('Product==\"iPhone\"').groupby('City')['Quantity_Ordered'].agg('sum')\n",
    "iphone_sold"
   ]
  },
  {
   "cell_type": "markdown",
   "id": "735f34f3",
   "metadata": {},
   "source": [
    "#### In year 2019, sales on weekend from each month"
   ]
  },
  {
   "cell_type": "code",
   "execution_count": 201,
   "id": "c4511017",
   "metadata": {},
   "outputs": [
    {
     "data": {
      "text/html": [
       "<div>\n",
       "<style scoped>\n",
       "    .dataframe tbody tr th:only-of-type {\n",
       "        vertical-align: middle;\n",
       "    }\n",
       "\n",
       "    .dataframe tbody tr th {\n",
       "        vertical-align: top;\n",
       "    }\n",
       "\n",
       "    .dataframe thead th {\n",
       "        text-align: right;\n",
       "    }\n",
       "</style>\n",
       "<table border=\"1\" class=\"dataframe\">\n",
       "  <thead>\n",
       "    <tr style=\"text-align: right;\">\n",
       "      <th></th>\n",
       "      <th>Months</th>\n",
       "      <th>Weekend Sales</th>\n",
       "    </tr>\n",
       "  </thead>\n",
       "  <tbody>\n",
       "    <tr>\n",
       "      <th>11</th>\n",
       "      <td>December</td>\n",
       "      <td>4608295.70</td>\n",
       "    </tr>\n",
       "    <tr>\n",
       "      <th>9</th>\n",
       "      <td>October</td>\n",
       "      <td>3734777.86</td>\n",
       "    </tr>\n",
       "    <tr>\n",
       "      <th>3</th>\n",
       "      <td>April</td>\n",
       "      <td>3389217.98</td>\n",
       "    </tr>\n",
       "    <tr>\n",
       "      <th>10</th>\n",
       "      <td>November</td>\n",
       "      <td>3197875.05</td>\n",
       "    </tr>\n",
       "    <tr>\n",
       "      <th>4</th>\n",
       "      <td>May</td>\n",
       "      <td>3150616.23</td>\n",
       "    </tr>\n",
       "    <tr>\n",
       "      <th>2</th>\n",
       "      <td>March</td>\n",
       "      <td>2804973.35</td>\n",
       "    </tr>\n",
       "    <tr>\n",
       "      <th>6</th>\n",
       "      <td>July</td>\n",
       "      <td>2646461.32</td>\n",
       "    </tr>\n",
       "    <tr>\n",
       "      <th>5</th>\n",
       "      <td>June</td>\n",
       "      <td>2576280.15</td>\n",
       "    </tr>\n",
       "    <tr>\n",
       "      <th>7</th>\n",
       "      <td>August</td>\n",
       "      <td>2241083.37</td>\n",
       "    </tr>\n",
       "    <tr>\n",
       "      <th>1</th>\n",
       "      <td>February</td>\n",
       "      <td>2200078.08</td>\n",
       "    </tr>\n",
       "    <tr>\n",
       "      <th>8</th>\n",
       "      <td>September</td>\n",
       "      <td>2094465.69</td>\n",
       "    </tr>\n",
       "    <tr>\n",
       "      <th>0</th>\n",
       "      <td>January</td>\n",
       "      <td>1812742.87</td>\n",
       "    </tr>\n",
       "  </tbody>\n",
       "</table>\n",
       "</div>"
      ],
      "text/plain": [
       "       Months  Weekend Sales\n",
       "11   December     4608295.70\n",
       "9     October     3734777.86\n",
       "3       April     3389217.98\n",
       "10   November     3197875.05\n",
       "4         May     3150616.23\n",
       "2       March     2804973.35\n",
       "6        July     2646461.32\n",
       "5        June     2576280.15\n",
       "7      August     2241083.37\n",
       "1    February     2200078.08\n",
       "8   September     2094465.69\n",
       "0     January     1812742.87"
      ]
     },
     "execution_count": 201,
     "metadata": {},
     "output_type": "execute_result"
    }
   ],
   "source": [
    "def weekend_sales(df1):\n",
    "    sales=[]\n",
    "    months=[]\n",
    "    for i in range(1,13):\n",
    "        sales.append(df1.loc[f'2019-{i}'].resample('W')['Total'].sum().values.sum())\n",
    "        months.append(calendar.month_name[i])\n",
    "#     print(months,sales)\n",
    "    new_Df=pd.DataFrame({'Months':months,'Weekend Sales':sales})   \n",
    "    return new_Df\n",
    "new_Df=weekend_sales(df)\n",
    "new_Df.sort_values(by='Weekend Sales',ascending=False)"
   ]
  },
  {
   "cell_type": "code",
   "execution_count": 216,
   "id": "08cd3a6f",
   "metadata": {},
   "outputs": [
    {
     "data": {
      "text/plain": [
       "(185686, 8)"
      ]
     },
     "execution_count": 216,
     "metadata": {},
     "output_type": "execute_result"
    }
   ],
   "source": [
    "df.shape"
   ]
  }
 ],
 "metadata": {
  "kernelspec": {
   "display_name": "Python 3 (ipykernel)",
   "language": "python",
   "name": "python3"
  },
  "language_info": {
   "codemirror_mode": {
    "name": "ipython",
    "version": 3
   },
   "file_extension": ".py",
   "mimetype": "text/x-python",
   "name": "python",
   "nbconvert_exporter": "python",
   "pygments_lexer": "ipython3",
   "version": "3.10.7"
  }
 },
 "nbformat": 4,
 "nbformat_minor": 5
}
